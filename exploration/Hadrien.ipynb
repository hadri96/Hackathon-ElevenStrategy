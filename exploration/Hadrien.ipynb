{
 "cells": [
  {
   "cell_type": "code",
   "execution_count": 1,
   "metadata": {},
   "outputs": [],
   "source": [
    "from endless_line.data_utils.dataloader import DataLoader"
   ]
  },
  {
   "cell_type": "code",
   "execution_count": 10,
   "metadata": {},
   "outputs": [],
   "source": [
    "data = DataLoader(load_all_files=True)"
   ]
  },
  {
   "cell_type": "code",
   "execution_count": 11,
   "metadata": {},
   "outputs": [
    {
     "data": {
      "text/html": [
       "<div>\n",
       "<style scoped>\n",
       "    .dataframe tbody tr th:only-of-type {\n",
       "        vertical-align: middle;\n",
       "    }\n",
       "\n",
       "    .dataframe tbody tr th {\n",
       "        vertical-align: top;\n",
       "    }\n",
       "\n",
       "    .dataframe thead th {\n",
       "        text-align: right;\n",
       "    }\n",
       "</style>\n",
       "<table border=\"1\" class=\"dataframe\">\n",
       "  <thead>\n",
       "    <tr style=\"text-align: right;\">\n",
       "      <th></th>\n",
       "      <th>USAGE_DATE</th>\n",
       "      <th>FACILITY_NAME</th>\n",
       "      <th>attendance</th>\n",
       "    </tr>\n",
       "  </thead>\n",
       "  <tbody>\n",
       "    <tr>\n",
       "      <th>0</th>\n",
       "      <td>2018-06-01</td>\n",
       "      <td>PortAventura World</td>\n",
       "      <td>46804</td>\n",
       "    </tr>\n",
       "    <tr>\n",
       "      <th>1</th>\n",
       "      <td>2018-06-01</td>\n",
       "      <td>Tivoli Gardens</td>\n",
       "      <td>20420</td>\n",
       "    </tr>\n",
       "    <tr>\n",
       "      <th>2</th>\n",
       "      <td>2018-06-02</td>\n",
       "      <td>PortAventura World</td>\n",
       "      <td>57940</td>\n",
       "    </tr>\n",
       "    <tr>\n",
       "      <th>3</th>\n",
       "      <td>2018-06-02</td>\n",
       "      <td>Tivoli Gardens</td>\n",
       "      <td>29110</td>\n",
       "    </tr>\n",
       "    <tr>\n",
       "      <th>4</th>\n",
       "      <td>2018-06-03</td>\n",
       "      <td>PortAventura World</td>\n",
       "      <td>44365</td>\n",
       "    </tr>\n",
       "    <tr>\n",
       "      <th>...</th>\n",
       "      <td>...</td>\n",
       "      <td>...</td>\n",
       "      <td>...</td>\n",
       "    </tr>\n",
       "    <tr>\n",
       "      <th>2362</th>\n",
       "      <td>2022-07-24</td>\n",
       "      <td>Tivoli Gardens</td>\n",
       "      <td>26798</td>\n",
       "    </tr>\n",
       "    <tr>\n",
       "      <th>2363</th>\n",
       "      <td>2022-07-25</td>\n",
       "      <td>PortAventura World</td>\n",
       "      <td>53764</td>\n",
       "    </tr>\n",
       "    <tr>\n",
       "      <th>2364</th>\n",
       "      <td>2022-07-25</td>\n",
       "      <td>Tivoli Gardens</td>\n",
       "      <td>27061</td>\n",
       "    </tr>\n",
       "    <tr>\n",
       "      <th>2365</th>\n",
       "      <td>2022-07-26</td>\n",
       "      <td>PortAventura World</td>\n",
       "      <td>26391</td>\n",
       "    </tr>\n",
       "    <tr>\n",
       "      <th>2366</th>\n",
       "      <td>2022-07-26</td>\n",
       "      <td>Tivoli Gardens</td>\n",
       "      <td>14882</td>\n",
       "    </tr>\n",
       "  </tbody>\n",
       "</table>\n",
       "<p>2367 rows × 3 columns</p>\n",
       "</div>"
      ],
      "text/plain": [
       "      USAGE_DATE       FACILITY_NAME  attendance\n",
       "0     2018-06-01  PortAventura World       46804\n",
       "1     2018-06-01      Tivoli Gardens       20420\n",
       "2     2018-06-02  PortAventura World       57940\n",
       "3     2018-06-02      Tivoli Gardens       29110\n",
       "4     2018-06-03  PortAventura World       44365\n",
       "...          ...                 ...         ...\n",
       "2362  2022-07-24      Tivoli Gardens       26798\n",
       "2363  2022-07-25  PortAventura World       53764\n",
       "2364  2022-07-25      Tivoli Gardens       27061\n",
       "2365  2022-07-26  PortAventura World       26391\n",
       "2366  2022-07-26      Tivoli Gardens       14882\n",
       "\n",
       "[2367 rows x 3 columns]"
      ]
     },
     "execution_count": 11,
     "metadata": {},
     "output_type": "execute_result"
    }
   ],
   "source": [
    "data.load_file(\"attendance.csv\")\n",
    "\n"
   ]
  },
  {
   "cell_type": "code",
   "execution_count": null,
   "metadata": {},
   "outputs": [],
   "source": []
  }
 ],
 "metadata": {
  "kernelspec": {
   "display_name": "Python 3",
   "language": "python",
   "name": "python3"
  },
  "language_info": {
   "codemirror_mode": {
    "name": "ipython",
    "version": 3
   },
   "file_extension": ".py",
   "mimetype": "text/x-python",
   "name": "python",
   "nbconvert_exporter": "python",
   "pygments_lexer": "ipython3",
   "version": "3.10.13"
  }
 },
 "nbformat": 4,
 "nbformat_minor": 2
}
