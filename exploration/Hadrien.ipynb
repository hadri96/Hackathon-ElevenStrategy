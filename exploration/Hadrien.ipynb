{
 "cells": [
  {
   "cell_type": "code",
   "execution_count": 1,
   "metadata": {},
   "outputs": [],
   "source": [
    "from endless_line.data_utils.dashboard_utils import DashboardUtils\n",
    "import pandas as pd\n",
    "from datetime import timedelta, datetime\n",
    "from attendance_prediction_model.new_attedance_pred import predict_attendance\n",
    "\n",
    "dashboard_utils = DashboardUtils()"
   ]
  },
  {
   "cell_type": "code",
   "execution_count": 5,
   "metadata": {},
   "outputs": [
    {
     "data": {
      "text/html": [
       "<div>\n",
       "<style scoped>\n",
       "    .dataframe tbody tr th:only-of-type {\n",
       "        vertical-align: middle;\n",
       "    }\n",
       "\n",
       "    .dataframe tbody tr th {\n",
       "        vertical-align: top;\n",
       "    }\n",
       "\n",
       "    .dataframe thead th {\n",
       "        text-align: right;\n",
       "    }\n",
       "</style>\n",
       "<table border=\"1\" class=\"dataframe\">\n",
       "  <thead>\n",
       "    <tr style=\"text-align: right;\">\n",
       "      <th></th>\n",
       "      <th>USAGE_DATE</th>\n",
       "      <th>attendance</th>\n",
       "      <th>predicted</th>\n",
       "    </tr>\n",
       "  </thead>\n",
       "  <tbody>\n",
       "    <tr>\n",
       "      <th>0</th>\n",
       "      <td>2025-02-09</td>\n",
       "      <td>20363</td>\n",
       "      <td>0</td>\n",
       "    </tr>\n",
       "    <tr>\n",
       "      <th>1</th>\n",
       "      <td>2025-02-10</td>\n",
       "      <td>16755</td>\n",
       "      <td>0</td>\n",
       "    </tr>\n",
       "    <tr>\n",
       "      <th>2</th>\n",
       "      <td>2025-02-11</td>\n",
       "      <td>18223</td>\n",
       "      <td>0</td>\n",
       "    </tr>\n",
       "    <tr>\n",
       "      <th>3</th>\n",
       "      <td>2025-02-12</td>\n",
       "      <td>30480</td>\n",
       "      <td>0</td>\n",
       "    </tr>\n",
       "    <tr>\n",
       "      <th>4</th>\n",
       "      <td>2025-02-13</td>\n",
       "      <td>27346</td>\n",
       "      <td>0</td>\n",
       "    </tr>\n",
       "  </tbody>\n",
       "</table>\n",
       "</div>"
      ],
      "text/plain": [
       "  USAGE_DATE  attendance  predicted\n",
       "0 2025-02-09       20363          0\n",
       "1 2025-02-10       16755          0\n",
       "2 2025-02-11       18223          0\n",
       "3 2025-02-12       30480          0\n",
       "4 2025-02-13       27346          0"
      ]
     },
     "execution_count": 5,
     "metadata": {},
     "output_type": "execute_result"
    }
   ],
   "source": [
    "current_date = datetime.today()\n",
    "start_date = current_date - timedelta(days=5)\n",
    "end_date = datetime.strptime('2025-02-16', '%Y-%m-%d')\n",
    "\n",
    "dashboard_utils.data.attendance = dashboard_utils.data.load_file('attendance.csv')\n",
    "dashboard_utils.data.clean_attendance()\n",
    "dashboard_utils.data.preprocess_attendance()\n",
    "\n",
    "hist = dashboard_utils.data.attendance\n",
    "hist['USAGE_DATE'] += pd.Timedelta(days=365*3+1)\n",
    "hist = hist[(hist['USAGE_DATE'] <= current_date) & (hist['USAGE_DATE'] >= start_date)].reset_index(drop=True)\n",
    "hist['predicted'] = 0\n",
    "\n",
    "hist"
   ]
  },
  {
   "cell_type": "code",
   "execution_count": 7,
   "metadata": {},
   "outputs": [
    {
     "name": "stderr",
     "output_type": "stream",
     "text": [
      "/Users/hadrienmorand/Documents/Studies/ESSEC_CENTRALE/Studies/M2/T2/Centrale/Hackathon/Hackathon-ElevenStrategy/endless_line/data_utils/weather_forecast.py:73: FutureWarning: DataFrame.interpolate with method=ffill is deprecated and will raise in a future version. Use obj.ffill() or obj.bfill() instead.\n",
      "  forecast_df = forecast_df.set_index('dt_iso').resample('h').interpolate(method='ffill', limit_direction='forward')\n"
     ]
    },
    {
     "data": {
      "text/html": [
       "<div>\n",
       "<style scoped>\n",
       "    .dataframe tbody tr th:only-of-type {\n",
       "        vertical-align: middle;\n",
       "    }\n",
       "\n",
       "    .dataframe tbody tr th {\n",
       "        vertical-align: top;\n",
       "    }\n",
       "\n",
       "    .dataframe thead th {\n",
       "        text-align: right;\n",
       "    }\n",
       "</style>\n",
       "<table border=\"1\" class=\"dataframe\">\n",
       "  <thead>\n",
       "    <tr style=\"text-align: right;\">\n",
       "      <th></th>\n",
       "      <th>USAGE_DATE</th>\n",
       "      <th>attendance</th>\n",
       "      <th>predicted</th>\n",
       "    </tr>\n",
       "  </thead>\n",
       "  <tbody>\n",
       "    <tr>\n",
       "      <th>0</th>\n",
       "      <td>2025-02-09</td>\n",
       "      <td>20363</td>\n",
       "      <td>0</td>\n",
       "    </tr>\n",
       "    <tr>\n",
       "      <th>1</th>\n",
       "      <td>2025-02-10</td>\n",
       "      <td>16755</td>\n",
       "      <td>0</td>\n",
       "    </tr>\n",
       "    <tr>\n",
       "      <th>2</th>\n",
       "      <td>2025-02-11</td>\n",
       "      <td>18223</td>\n",
       "      <td>0</td>\n",
       "    </tr>\n",
       "    <tr>\n",
       "      <th>3</th>\n",
       "      <td>2025-02-12</td>\n",
       "      <td>30480</td>\n",
       "      <td>0</td>\n",
       "    </tr>\n",
       "    <tr>\n",
       "      <th>4</th>\n",
       "      <td>2025-02-13</td>\n",
       "      <td>27346</td>\n",
       "      <td>0</td>\n",
       "    </tr>\n",
       "  </tbody>\n",
       "</table>\n",
       "</div>"
      ],
      "text/plain": [
       "  USAGE_DATE  attendance  predicted\n",
       "0 2025-02-09       20363          0\n",
       "1 2025-02-10       16755          0\n",
       "2 2025-02-11       18223          0\n",
       "3 2025-02-12       30480          0\n",
       "4 2025-02-13       27346          0"
      ]
     },
     "execution_count": 7,
     "metadata": {},
     "output_type": "execute_result"
    }
   ],
   "source": [
    "hist, pred = dashboard_utils.get_predicted_attendance_with_past(current_date, start_date)\n",
    "\n",
    "hist"
   ]
  },
  {
   "cell_type": "code",
   "execution_count": 9,
   "metadata": {},
   "outputs": [
    {
     "data": {
      "application/vnd.plotly.v1+json": {
       "config": {
        "plotlyServerURL": "https://plot.ly"
       },
       "data": [
        {
         "line": {
          "color": "blue",
          "shape": "spline",
          "width": 2
         },
         "mode": "lines",
         "name": "Historical Attendance",
         "type": "scatter",
         "x": [
          "2025-02-09T00:00:00",
          "2025-02-10T00:00:00",
          "2025-02-11T00:00:00",
          "2025-02-12T00:00:00",
          "2025-02-13T00:00:00"
         ],
         "y": [
          20363,
          16755,
          18223,
          30480,
          27346
         ]
        },
        {
         "line": {
          "color": "blue",
          "dash": "dot",
          "shape": "spline",
          "width": 2
         },
         "mode": "lines",
         "showlegend": false,
         "type": "scatter",
         "x": [
          "2025-02-13T00:00:00",
          "2025-02-14T00:00:00"
         ],
         "y": [
          27346,
          41216.04318518525
         ]
        },
        {
         "line": {
          "color": "red",
          "shape": "spline",
          "width": 2
         },
         "mode": "lines",
         "name": "Predicted Attendance",
         "type": "scatter",
         "x": [
          "2025-02-14T00:00:00",
          "2025-02-15T00:00:00",
          "2025-02-16T00:00:00",
          "2025-02-17T00:00:00",
          "2025-02-18T00:00:00"
         ],
         "y": [
          41216.04318518525,
          34982.69911107157,
          31997.723426185712,
          43852.136744103685,
          47503.096930351785
         ]
        }
       ],
       "layout": {
        "hovermode": "x unified",
        "plot_bgcolor": "white",
        "template": {
         "data": {
          "bar": [
           {
            "error_x": {
             "color": "#2a3f5f"
            },
            "error_y": {
             "color": "#2a3f5f"
            },
            "marker": {
             "line": {
              "color": "#E5ECF6",
              "width": 0.5
             },
             "pattern": {
              "fillmode": "overlay",
              "size": 10,
              "solidity": 0.2
             }
            },
            "type": "bar"
           }
          ],
          "barpolar": [
           {
            "marker": {
             "line": {
              "color": "#E5ECF6",
              "width": 0.5
             },
             "pattern": {
              "fillmode": "overlay",
              "size": 10,
              "solidity": 0.2
             }
            },
            "type": "barpolar"
           }
          ],
          "carpet": [
           {
            "aaxis": {
             "endlinecolor": "#2a3f5f",
             "gridcolor": "white",
             "linecolor": "white",
             "minorgridcolor": "white",
             "startlinecolor": "#2a3f5f"
            },
            "baxis": {
             "endlinecolor": "#2a3f5f",
             "gridcolor": "white",
             "linecolor": "white",
             "minorgridcolor": "white",
             "startlinecolor": "#2a3f5f"
            },
            "type": "carpet"
           }
          ],
          "choropleth": [
           {
            "colorbar": {
             "outlinewidth": 0,
             "ticks": ""
            },
            "type": "choropleth"
           }
          ],
          "contour": [
           {
            "colorbar": {
             "outlinewidth": 0,
             "ticks": ""
            },
            "colorscale": [
             [
              0,
              "#0d0887"
             ],
             [
              0.1111111111111111,
              "#46039f"
             ],
             [
              0.2222222222222222,
              "#7201a8"
             ],
             [
              0.3333333333333333,
              "#9c179e"
             ],
             [
              0.4444444444444444,
              "#bd3786"
             ],
             [
              0.5555555555555556,
              "#d8576b"
             ],
             [
              0.6666666666666666,
              "#ed7953"
             ],
             [
              0.7777777777777778,
              "#fb9f3a"
             ],
             [
              0.8888888888888888,
              "#fdca26"
             ],
             [
              1,
              "#f0f921"
             ]
            ],
            "type": "contour"
           }
          ],
          "contourcarpet": [
           {
            "colorbar": {
             "outlinewidth": 0,
             "ticks": ""
            },
            "type": "contourcarpet"
           }
          ],
          "heatmap": [
           {
            "colorbar": {
             "outlinewidth": 0,
             "ticks": ""
            },
            "colorscale": [
             [
              0,
              "#0d0887"
             ],
             [
              0.1111111111111111,
              "#46039f"
             ],
             [
              0.2222222222222222,
              "#7201a8"
             ],
             [
              0.3333333333333333,
              "#9c179e"
             ],
             [
              0.4444444444444444,
              "#bd3786"
             ],
             [
              0.5555555555555556,
              "#d8576b"
             ],
             [
              0.6666666666666666,
              "#ed7953"
             ],
             [
              0.7777777777777778,
              "#fb9f3a"
             ],
             [
              0.8888888888888888,
              "#fdca26"
             ],
             [
              1,
              "#f0f921"
             ]
            ],
            "type": "heatmap"
           }
          ],
          "heatmapgl": [
           {
            "colorbar": {
             "outlinewidth": 0,
             "ticks": ""
            },
            "colorscale": [
             [
              0,
              "#0d0887"
             ],
             [
              0.1111111111111111,
              "#46039f"
             ],
             [
              0.2222222222222222,
              "#7201a8"
             ],
             [
              0.3333333333333333,
              "#9c179e"
             ],
             [
              0.4444444444444444,
              "#bd3786"
             ],
             [
              0.5555555555555556,
              "#d8576b"
             ],
             [
              0.6666666666666666,
              "#ed7953"
             ],
             [
              0.7777777777777778,
              "#fb9f3a"
             ],
             [
              0.8888888888888888,
              "#fdca26"
             ],
             [
              1,
              "#f0f921"
             ]
            ],
            "type": "heatmapgl"
           }
          ],
          "histogram": [
           {
            "marker": {
             "pattern": {
              "fillmode": "overlay",
              "size": 10,
              "solidity": 0.2
             }
            },
            "type": "histogram"
           }
          ],
          "histogram2d": [
           {
            "colorbar": {
             "outlinewidth": 0,
             "ticks": ""
            },
            "colorscale": [
             [
              0,
              "#0d0887"
             ],
             [
              0.1111111111111111,
              "#46039f"
             ],
             [
              0.2222222222222222,
              "#7201a8"
             ],
             [
              0.3333333333333333,
              "#9c179e"
             ],
             [
              0.4444444444444444,
              "#bd3786"
             ],
             [
              0.5555555555555556,
              "#d8576b"
             ],
             [
              0.6666666666666666,
              "#ed7953"
             ],
             [
              0.7777777777777778,
              "#fb9f3a"
             ],
             [
              0.8888888888888888,
              "#fdca26"
             ],
             [
              1,
              "#f0f921"
             ]
            ],
            "type": "histogram2d"
           }
          ],
          "histogram2dcontour": [
           {
            "colorbar": {
             "outlinewidth": 0,
             "ticks": ""
            },
            "colorscale": [
             [
              0,
              "#0d0887"
             ],
             [
              0.1111111111111111,
              "#46039f"
             ],
             [
              0.2222222222222222,
              "#7201a8"
             ],
             [
              0.3333333333333333,
              "#9c179e"
             ],
             [
              0.4444444444444444,
              "#bd3786"
             ],
             [
              0.5555555555555556,
              "#d8576b"
             ],
             [
              0.6666666666666666,
              "#ed7953"
             ],
             [
              0.7777777777777778,
              "#fb9f3a"
             ],
             [
              0.8888888888888888,
              "#fdca26"
             ],
             [
              1,
              "#f0f921"
             ]
            ],
            "type": "histogram2dcontour"
           }
          ],
          "mesh3d": [
           {
            "colorbar": {
             "outlinewidth": 0,
             "ticks": ""
            },
            "type": "mesh3d"
           }
          ],
          "parcoords": [
           {
            "line": {
             "colorbar": {
              "outlinewidth": 0,
              "ticks": ""
             }
            },
            "type": "parcoords"
           }
          ],
          "pie": [
           {
            "automargin": true,
            "type": "pie"
           }
          ],
          "scatter": [
           {
            "fillpattern": {
             "fillmode": "overlay",
             "size": 10,
             "solidity": 0.2
            },
            "type": "scatter"
           }
          ],
          "scatter3d": [
           {
            "line": {
             "colorbar": {
              "outlinewidth": 0,
              "ticks": ""
             }
            },
            "marker": {
             "colorbar": {
              "outlinewidth": 0,
              "ticks": ""
             }
            },
            "type": "scatter3d"
           }
          ],
          "scattercarpet": [
           {
            "marker": {
             "colorbar": {
              "outlinewidth": 0,
              "ticks": ""
             }
            },
            "type": "scattercarpet"
           }
          ],
          "scattergeo": [
           {
            "marker": {
             "colorbar": {
              "outlinewidth": 0,
              "ticks": ""
             }
            },
            "type": "scattergeo"
           }
          ],
          "scattergl": [
           {
            "marker": {
             "colorbar": {
              "outlinewidth": 0,
              "ticks": ""
             }
            },
            "type": "scattergl"
           }
          ],
          "scattermapbox": [
           {
            "marker": {
             "colorbar": {
              "outlinewidth": 0,
              "ticks": ""
             }
            },
            "type": "scattermapbox"
           }
          ],
          "scatterpolar": [
           {
            "marker": {
             "colorbar": {
              "outlinewidth": 0,
              "ticks": ""
             }
            },
            "type": "scatterpolar"
           }
          ],
          "scatterpolargl": [
           {
            "marker": {
             "colorbar": {
              "outlinewidth": 0,
              "ticks": ""
             }
            },
            "type": "scatterpolargl"
           }
          ],
          "scatterternary": [
           {
            "marker": {
             "colorbar": {
              "outlinewidth": 0,
              "ticks": ""
             }
            },
            "type": "scatterternary"
           }
          ],
          "surface": [
           {
            "colorbar": {
             "outlinewidth": 0,
             "ticks": ""
            },
            "colorscale": [
             [
              0,
              "#0d0887"
             ],
             [
              0.1111111111111111,
              "#46039f"
             ],
             [
              0.2222222222222222,
              "#7201a8"
             ],
             [
              0.3333333333333333,
              "#9c179e"
             ],
             [
              0.4444444444444444,
              "#bd3786"
             ],
             [
              0.5555555555555556,
              "#d8576b"
             ],
             [
              0.6666666666666666,
              "#ed7953"
             ],
             [
              0.7777777777777778,
              "#fb9f3a"
             ],
             [
              0.8888888888888888,
              "#fdca26"
             ],
             [
              1,
              "#f0f921"
             ]
            ],
            "type": "surface"
           }
          ],
          "table": [
           {
            "cells": {
             "fill": {
              "color": "#EBF0F8"
             },
             "line": {
              "color": "white"
             }
            },
            "header": {
             "fill": {
              "color": "#C8D4E3"
             },
             "line": {
              "color": "white"
             }
            },
            "type": "table"
           }
          ]
         },
         "layout": {
          "annotationdefaults": {
           "arrowcolor": "#2a3f5f",
           "arrowhead": 0,
           "arrowwidth": 1
          },
          "autotypenumbers": "strict",
          "coloraxis": {
           "colorbar": {
            "outlinewidth": 0,
            "ticks": ""
           }
          },
          "colorscale": {
           "diverging": [
            [
             0,
             "#8e0152"
            ],
            [
             0.1,
             "#c51b7d"
            ],
            [
             0.2,
             "#de77ae"
            ],
            [
             0.3,
             "#f1b6da"
            ],
            [
             0.4,
             "#fde0ef"
            ],
            [
             0.5,
             "#f7f7f7"
            ],
            [
             0.6,
             "#e6f5d0"
            ],
            [
             0.7,
             "#b8e186"
            ],
            [
             0.8,
             "#7fbc41"
            ],
            [
             0.9,
             "#4d9221"
            ],
            [
             1,
             "#276419"
            ]
           ],
           "sequential": [
            [
             0,
             "#0d0887"
            ],
            [
             0.1111111111111111,
             "#46039f"
            ],
            [
             0.2222222222222222,
             "#7201a8"
            ],
            [
             0.3333333333333333,
             "#9c179e"
            ],
            [
             0.4444444444444444,
             "#bd3786"
            ],
            [
             0.5555555555555556,
             "#d8576b"
            ],
            [
             0.6666666666666666,
             "#ed7953"
            ],
            [
             0.7777777777777778,
             "#fb9f3a"
            ],
            [
             0.8888888888888888,
             "#fdca26"
            ],
            [
             1,
             "#f0f921"
            ]
           ],
           "sequentialminus": [
            [
             0,
             "#0d0887"
            ],
            [
             0.1111111111111111,
             "#46039f"
            ],
            [
             0.2222222222222222,
             "#7201a8"
            ],
            [
             0.3333333333333333,
             "#9c179e"
            ],
            [
             0.4444444444444444,
             "#bd3786"
            ],
            [
             0.5555555555555556,
             "#d8576b"
            ],
            [
             0.6666666666666666,
             "#ed7953"
            ],
            [
             0.7777777777777778,
             "#fb9f3a"
            ],
            [
             0.8888888888888888,
             "#fdca26"
            ],
            [
             1,
             "#f0f921"
            ]
           ]
          },
          "colorway": [
           "#636efa",
           "#EF553B",
           "#00cc96",
           "#ab63fa",
           "#FFA15A",
           "#19d3f3",
           "#FF6692",
           "#B6E880",
           "#FF97FF",
           "#FECB52"
          ],
          "font": {
           "color": "#2a3f5f"
          },
          "geo": {
           "bgcolor": "white",
           "lakecolor": "white",
           "landcolor": "#E5ECF6",
           "showlakes": true,
           "showland": true,
           "subunitcolor": "white"
          },
          "hoverlabel": {
           "align": "left"
          },
          "hovermode": "closest",
          "mapbox": {
           "style": "light"
          },
          "paper_bgcolor": "white",
          "plot_bgcolor": "#E5ECF6",
          "polar": {
           "angularaxis": {
            "gridcolor": "white",
            "linecolor": "white",
            "ticks": ""
           },
           "bgcolor": "#E5ECF6",
           "radialaxis": {
            "gridcolor": "white",
            "linecolor": "white",
            "ticks": ""
           }
          },
          "scene": {
           "xaxis": {
            "backgroundcolor": "#E5ECF6",
            "gridcolor": "white",
            "gridwidth": 2,
            "linecolor": "white",
            "showbackground": true,
            "ticks": "",
            "zerolinecolor": "white"
           },
           "yaxis": {
            "backgroundcolor": "#E5ECF6",
            "gridcolor": "white",
            "gridwidth": 2,
            "linecolor": "white",
            "showbackground": true,
            "ticks": "",
            "zerolinecolor": "white"
           },
           "zaxis": {
            "backgroundcolor": "#E5ECF6",
            "gridcolor": "white",
            "gridwidth": 2,
            "linecolor": "white",
            "showbackground": true,
            "ticks": "",
            "zerolinecolor": "white"
           }
          },
          "shapedefaults": {
           "line": {
            "color": "#2a3f5f"
           }
          },
          "ternary": {
           "aaxis": {
            "gridcolor": "white",
            "linecolor": "white",
            "ticks": ""
           },
           "baxis": {
            "gridcolor": "white",
            "linecolor": "white",
            "ticks": ""
           },
           "bgcolor": "#E5ECF6",
           "caxis": {
            "gridcolor": "white",
            "linecolor": "white",
            "ticks": ""
           }
          },
          "title": {
           "x": 0.05
          },
          "xaxis": {
           "automargin": true,
           "gridcolor": "white",
           "linecolor": "white",
           "ticks": "",
           "title": {
            "standoff": 15
           },
           "zerolinecolor": "white",
           "zerolinewidth": 2
          },
          "yaxis": {
           "automargin": true,
           "gridcolor": "white",
           "linecolor": "white",
           "ticks": "",
           "title": {
            "standoff": 15
           },
           "zerolinecolor": "white",
           "zerolinewidth": 2
          }
         }
        },
        "title": {
         "text": "Attendance Forecast"
        },
        "xaxis": {
         "showgrid": false,
         "title": {
          "text": "Date"
         }
        },
        "yaxis": {
         "showgrid": false,
         "title": {
          "text": "Attendance"
         }
        }
       }
      }
     },
     "metadata": {},
     "output_type": "display_data"
    }
   ],
   "source": [
    "import plotly.graph_objects as go\n",
    "\n",
    "if datetime.today().hour > 12:\n",
    "    # Manually add transition point to keep continuity\n",
    "    transition_x = [hist[\"USAGE_DATE\"].iloc[-1], pred[\"USAGE_DATE\"].iloc[0]]\n",
    "    transition_y = [hist[\"attendance\"].iloc[-1], pred[\"attendance\"].iloc[0]]\n",
    "\n",
    "fig = go.Figure()\n",
    "\n",
    "# Historical data (Blue Line)\n",
    "fig.add_trace(go.Scatter(\n",
    "    x=hist[\"USAGE_DATE\"],\n",
    "    y=hist[\"attendance\"],\n",
    "    mode=\"lines\",\n",
    "    line=dict(color=\"blue\", width=2),\n",
    "    line_shape=\"spline\",\n",
    "    name=\"Historical Attendance\"\n",
    "))\n",
    "\n",
    "# Transition Line (Connect Last Historical to First Prediction)\n",
    "fig.add_trace(go.Scatter(\n",
    "    x=transition_x,\n",
    "    y=transition_y,\n",
    "    mode=\"lines\",\n",
    "    line=dict(color=\"blue\", width=2, dash=\"dot\"),\n",
    "    line_shape=\"spline\",\n",
    "    showlegend=False\n",
    "))\n",
    "\n",
    "# Predicted Data (Red Line)\n",
    "fig.add_trace(go.Scatter(\n",
    "    x=pred[\"USAGE_DATE\"],\n",
    "    y=pred[\"attendance\"],\n",
    "    mode=\"lines\",\n",
    "    line=dict(color=\"red\", width=2),\n",
    "    line_shape=\"spline\",\n",
    "    name=\"Predicted Attendance\"\n",
    "))\n",
    "\n",
    "# Layout enhancements\n",
    "fig.update_layout(\n",
    "    title=\"Attendance Forecast\",\n",
    "    xaxis_title=\"Date\",\n",
    "    yaxis_title=\"Attendance\",\n",
    "    hovermode=\"x unified\",\n",
    "    xaxis=dict(showgrid=False),\n",
    "    yaxis=dict(showgrid=False),\n",
    "    plot_bgcolor=\"white\"\n",
    ")\n",
    "\n",
    "fig.show()\n"
   ]
  },
  {
   "cell_type": "code",
   "execution_count": null,
   "metadata": {},
   "outputs": [],
   "source": []
  },
  {
   "cell_type": "code",
   "execution_count": 12,
   "metadata": {},
   "outputs": [
    {
     "name": "stderr",
     "output_type": "stream",
     "text": [
      "/Users/hadrienmorand/Documents/Studies/ESSEC_CENTRALE/Studies/M2/T2/Centrale/Hackathon/Hackathon-ElevenStrategy/endless_line/data_utils/dataloader.py:253: SettingWithCopyWarning:\n",
      "\n",
      "\n",
      "A value is trying to be set on a copy of a slice from a DataFrame.\n",
      "Try using .loc[row_indexer,col_indexer] = value instead\n",
      "\n",
      "See the caveats in the documentation: https://pandas.pydata.org/pandas-docs/stable/user_guide/indexing.html#returning-a-view-versus-a-copy\n",
      "\n"
     ]
    },
    {
     "data": {
      "text/html": [
       "<div>\n",
       "<style scoped>\n",
       "    .dataframe tbody tr th:only-of-type {\n",
       "        vertical-align: middle;\n",
       "    }\n",
       "\n",
       "    .dataframe tbody tr th {\n",
       "        vertical-align: top;\n",
       "    }\n",
       "\n",
       "    .dataframe thead th {\n",
       "        text-align: right;\n",
       "    }\n",
       "</style>\n",
       "<table border=\"1\" class=\"dataframe\">\n",
       "  <thead>\n",
       "    <tr style=\"text-align: right;\">\n",
       "      <th></th>\n",
       "      <th>WORK_DATE</th>\n",
       "      <th>DEB_TIME</th>\n",
       "      <th>DEB_TIME_HOUR</th>\n",
       "      <th>FIN_TIME</th>\n",
       "      <th>ENTITY_DESCRIPTION_SHORT</th>\n",
       "      <th>WAIT_TIME_MAX</th>\n",
       "      <th>NB_UNITS</th>\n",
       "      <th>GUEST_CARRIED</th>\n",
       "      <th>CAPACITY</th>\n",
       "      <th>ADJUST_CAPACITY</th>\n",
       "      <th>OPEN_TIME</th>\n",
       "      <th>UP_TIME</th>\n",
       "      <th>DOWNTIME</th>\n",
       "      <th>NB_MAX_UNIT</th>\n",
       "    </tr>\n",
       "  </thead>\n",
       "  <tbody>\n",
       "    <tr>\n",
       "      <th>0</th>\n",
       "      <td>2018-01-01</td>\n",
       "      <td>2018-01-01 21:00:00</td>\n",
       "      <td>21</td>\n",
       "      <td>2018-01-01 21:15:00</td>\n",
       "      <td>Roller Coaster</td>\n",
       "      <td>0</td>\n",
       "      <td>2.0</td>\n",
       "      <td>0.0</td>\n",
       "      <td>0.000</td>\n",
       "      <td>0.00</td>\n",
       "      <td>0</td>\n",
       "      <td>0</td>\n",
       "      <td>0</td>\n",
       "      <td>2.0</td>\n",
       "    </tr>\n",
       "    <tr>\n",
       "      <th>1</th>\n",
       "      <td>2018-01-01</td>\n",
       "      <td>2018-01-01 19:30:00</td>\n",
       "      <td>19</td>\n",
       "      <td>2018-01-01 19:45:00</td>\n",
       "      <td>Bumper Cars</td>\n",
       "      <td>5</td>\n",
       "      <td>18.0</td>\n",
       "      <td>148.0</td>\n",
       "      <td>254.749</td>\n",
       "      <td>254.75</td>\n",
       "      <td>15</td>\n",
       "      <td>15</td>\n",
       "      <td>0</td>\n",
       "      <td>18.0</td>\n",
       "    </tr>\n",
       "    <tr>\n",
       "      <th>2</th>\n",
       "      <td>2018-01-01</td>\n",
       "      <td>2018-01-01 22:30:00</td>\n",
       "      <td>22</td>\n",
       "      <td>2018-01-01 22:45:00</td>\n",
       "      <td>Rapids Ride</td>\n",
       "      <td>0</td>\n",
       "      <td>1.0</td>\n",
       "      <td>0.0</td>\n",
       "      <td>0.000</td>\n",
       "      <td>0.00</td>\n",
       "      <td>0</td>\n",
       "      <td>0</td>\n",
       "      <td>0</td>\n",
       "      <td>2.0</td>\n",
       "    </tr>\n",
       "    <tr>\n",
       "      <th>3</th>\n",
       "      <td>2018-01-01</td>\n",
       "      <td>2018-01-01 12:45:00</td>\n",
       "      <td>12</td>\n",
       "      <td>2018-01-01 13:00:00</td>\n",
       "      <td>Crazy Dance</td>\n",
       "      <td>5</td>\n",
       "      <td>1.0</td>\n",
       "      <td>46.0</td>\n",
       "      <td>250.001</td>\n",
       "      <td>250.00</td>\n",
       "      <td>15</td>\n",
       "      <td>15</td>\n",
       "      <td>0</td>\n",
       "      <td>1.0</td>\n",
       "    </tr>\n",
       "    <tr>\n",
       "      <th>5</th>\n",
       "      <td>2018-01-01</td>\n",
       "      <td>2018-01-01 18:15:00</td>\n",
       "      <td>18</td>\n",
       "      <td>2018-01-01 18:30:00</td>\n",
       "      <td>Free Fall</td>\n",
       "      <td>50</td>\n",
       "      <td>3.0</td>\n",
       "      <td>0.0</td>\n",
       "      <td>0.000</td>\n",
       "      <td>0.00</td>\n",
       "      <td>0</td>\n",
       "      <td>0</td>\n",
       "      <td>0</td>\n",
       "      <td>3.0</td>\n",
       "    </tr>\n",
       "    <tr>\n",
       "      <th>...</th>\n",
       "      <td>...</td>\n",
       "      <td>...</td>\n",
       "      <td>...</td>\n",
       "      <td>...</td>\n",
       "      <td>...</td>\n",
       "      <td>...</td>\n",
       "      <td>...</td>\n",
       "      <td>...</td>\n",
       "      <td>...</td>\n",
       "      <td>...</td>\n",
       "      <td>...</td>\n",
       "      <td>...</td>\n",
       "      <td>...</td>\n",
       "      <td>...</td>\n",
       "    </tr>\n",
       "    <tr>\n",
       "      <th>3509319</th>\n",
       "      <td>2022-08-18</td>\n",
       "      <td>2022-08-18 18:45:00</td>\n",
       "      <td>18</td>\n",
       "      <td>2022-08-18 19:00:00</td>\n",
       "      <td>Himalaya Ride</td>\n",
       "      <td>0</td>\n",
       "      <td>0.0</td>\n",
       "      <td>0.0</td>\n",
       "      <td>0.000</td>\n",
       "      <td>0.00</td>\n",
       "      <td>0</td>\n",
       "      <td>0</td>\n",
       "      <td>0</td>\n",
       "      <td>1.0</td>\n",
       "    </tr>\n",
       "    <tr>\n",
       "      <th>3509320</th>\n",
       "      <td>2022-08-18</td>\n",
       "      <td>2022-08-18 10:15:00</td>\n",
       "      <td>10</td>\n",
       "      <td>2022-08-18 10:30:00</td>\n",
       "      <td>Crazy Dance</td>\n",
       "      <td>0</td>\n",
       "      <td>0.0</td>\n",
       "      <td>0.0</td>\n",
       "      <td>0.000</td>\n",
       "      <td>0.00</td>\n",
       "      <td>0</td>\n",
       "      <td>0</td>\n",
       "      <td>0</td>\n",
       "      <td>1.0</td>\n",
       "    </tr>\n",
       "    <tr>\n",
       "      <th>3509321</th>\n",
       "      <td>2022-08-18</td>\n",
       "      <td>2022-08-18 09:15:00</td>\n",
       "      <td>9</td>\n",
       "      <td>2022-08-18 09:30:00</td>\n",
       "      <td>Crazy Dance</td>\n",
       "      <td>0</td>\n",
       "      <td>0.0</td>\n",
       "      <td>0.0</td>\n",
       "      <td>0.000</td>\n",
       "      <td>0.00</td>\n",
       "      <td>0</td>\n",
       "      <td>0</td>\n",
       "      <td>0</td>\n",
       "      <td>1.0</td>\n",
       "    </tr>\n",
       "    <tr>\n",
       "      <th>3509322</th>\n",
       "      <td>2022-08-18</td>\n",
       "      <td>2022-08-18 20:30:00</td>\n",
       "      <td>20</td>\n",
       "      <td>2022-08-18 20:45:00</td>\n",
       "      <td>Giga Coaster</td>\n",
       "      <td>0</td>\n",
       "      <td>0.0</td>\n",
       "      <td>0.0</td>\n",
       "      <td>0.000</td>\n",
       "      <td>0.00</td>\n",
       "      <td>0</td>\n",
       "      <td>0</td>\n",
       "      <td>0</td>\n",
       "      <td>24.0</td>\n",
       "    </tr>\n",
       "    <tr>\n",
       "      <th>3509323</th>\n",
       "      <td>2022-08-18</td>\n",
       "      <td>2022-08-18 10:45:00</td>\n",
       "      <td>10</td>\n",
       "      <td>2022-08-18 11:00:00</td>\n",
       "      <td>Oz Theatre</td>\n",
       "      <td>0</td>\n",
       "      <td>2.0</td>\n",
       "      <td>0.0</td>\n",
       "      <td>0.000</td>\n",
       "      <td>0.00</td>\n",
       "      <td>0</td>\n",
       "      <td>0</td>\n",
       "      <td>0</td>\n",
       "      <td>2.0</td>\n",
       "    </tr>\n",
       "  </tbody>\n",
       "</table>\n",
       "<p>1343379 rows × 14 columns</p>\n",
       "</div>"
      ],
      "text/plain": [
       "         WORK_DATE            DEB_TIME  DEB_TIME_HOUR            FIN_TIME  \\\n",
       "0       2018-01-01 2018-01-01 21:00:00             21 2018-01-01 21:15:00   \n",
       "1       2018-01-01 2018-01-01 19:30:00             19 2018-01-01 19:45:00   \n",
       "2       2018-01-01 2018-01-01 22:30:00             22 2018-01-01 22:45:00   \n",
       "3       2018-01-01 2018-01-01 12:45:00             12 2018-01-01 13:00:00   \n",
       "5       2018-01-01 2018-01-01 18:15:00             18 2018-01-01 18:30:00   \n",
       "...            ...                 ...            ...                 ...   \n",
       "3509319 2022-08-18 2022-08-18 18:45:00             18 2022-08-18 19:00:00   \n",
       "3509320 2022-08-18 2022-08-18 10:15:00             10 2022-08-18 10:30:00   \n",
       "3509321 2022-08-18 2022-08-18 09:15:00              9 2022-08-18 09:30:00   \n",
       "3509322 2022-08-18 2022-08-18 20:30:00             20 2022-08-18 20:45:00   \n",
       "3509323 2022-08-18 2022-08-18 10:45:00             10 2022-08-18 11:00:00   \n",
       "\n",
       "        ENTITY_DESCRIPTION_SHORT  WAIT_TIME_MAX  NB_UNITS  GUEST_CARRIED  \\\n",
       "0                 Roller Coaster              0       2.0            0.0   \n",
       "1                    Bumper Cars              5      18.0          148.0   \n",
       "2                    Rapids Ride              0       1.0            0.0   \n",
       "3                    Crazy Dance              5       1.0           46.0   \n",
       "5                      Free Fall             50       3.0            0.0   \n",
       "...                          ...            ...       ...            ...   \n",
       "3509319            Himalaya Ride              0       0.0            0.0   \n",
       "3509320              Crazy Dance              0       0.0            0.0   \n",
       "3509321              Crazy Dance              0       0.0            0.0   \n",
       "3509322             Giga Coaster              0       0.0            0.0   \n",
       "3509323               Oz Theatre              0       2.0            0.0   \n",
       "\n",
       "         CAPACITY  ADJUST_CAPACITY  OPEN_TIME  UP_TIME  DOWNTIME  NB_MAX_UNIT  \n",
       "0           0.000             0.00          0        0         0          2.0  \n",
       "1         254.749           254.75         15       15         0         18.0  \n",
       "2           0.000             0.00          0        0         0          2.0  \n",
       "3         250.001           250.00         15       15         0          1.0  \n",
       "5           0.000             0.00          0        0         0          3.0  \n",
       "...           ...              ...        ...      ...       ...          ...  \n",
       "3509319     0.000             0.00          0        0         0          1.0  \n",
       "3509320     0.000             0.00          0        0         0          1.0  \n",
       "3509321     0.000             0.00          0        0         0          1.0  \n",
       "3509322     0.000             0.00          0        0         0         24.0  \n",
       "3509323     0.000             0.00          0        0         0          2.0  \n",
       "\n",
       "[1343379 rows x 14 columns]"
      ]
     },
     "execution_count": 12,
     "metadata": {},
     "output_type": "execute_result"
    }
   ],
   "source": [
    "from endless_line.data_utils.dataloader import DataLoader\n",
    "\n",
    "data_loader = DataLoader(load_all_files=True)\n",
    "\n",
    "data_loader.clean_data()"
   ]
  },
  {
   "cell_type": "code",
   "execution_count": 18,
   "metadata": {},
   "outputs": [
    {
     "name": "stderr",
     "output_type": "stream",
     "text": [
      "/var/folders/7p/tl03dfd12y384j_7fwmzm2vc0000gp/T/ipykernel_46997/3705946192.py:9: SettingWithCopyWarning:\n",
      "\n",
      "\n",
      "A value is trying to be set on a copy of a slice from a DataFrame.\n",
      "Try using .loc[row_indexer,col_indexer] = value instead\n",
      "\n",
      "See the caveats in the documentation: https://pandas.pydata.org/pandas-docs/stable/user_guide/indexing.html#returning-a-view-versus-a-copy\n",
      "\n",
      "/var/folders/7p/tl03dfd12y384j_7fwmzm2vc0000gp/T/ipykernel_46997/3705946192.py:10: SettingWithCopyWarning:\n",
      "\n",
      "\n",
      "A value is trying to be set on a copy of a slice from a DataFrame.\n",
      "Try using .loc[row_indexer,col_indexer] = value instead\n",
      "\n",
      "See the caveats in the documentation: https://pandas.pydata.org/pandas-docs/stable/user_guide/indexing.html#returning-a-view-versus-a-copy\n",
      "\n",
      "/var/folders/7p/tl03dfd12y384j_7fwmzm2vc0000gp/T/ipykernel_46997/3705946192.py:11: SettingWithCopyWarning:\n",
      "\n",
      "\n",
      "A value is trying to be set on a copy of a slice from a DataFrame.\n",
      "Try using .loc[row_indexer,col_indexer] = value instead\n",
      "\n",
      "See the caveats in the documentation: https://pandas.pydata.org/pandas-docs/stable/user_guide/indexing.html#returning-a-view-versus-a-copy\n",
      "\n"
     ]
    }
   ],
   "source": [
    "from datetime import datetime, timedelta\n",
    "import os\n",
    "\n",
    "df = data_loader.waiting_times\n",
    "\n",
    "start_date = datetime(2022, 1, 1)\n",
    "end_date = datetime(2022, 2, 28)\n",
    "filtered_df = df[(df['WORK_DATE'] >= start_date) & (df['WORK_DATE'] <= end_date)]\n",
    "filtered_df['WORK_DATE'] += timedelta(days=365*3 + 1)\n",
    "filtered_df['DEB_TIME'] += timedelta(days=365*3 + 1)\n",
    "filtered_df['FIN_TIME'] += timedelta(days=365*3 + 1)\n",
    "\n",
    "filtered_df.to_csv(os.path.join('..','data', 'fictional_waiting_times.csv'), index=False)\n"
   ]
  },
  {
   "cell_type": "code",
   "execution_count": 1,
   "metadata": {},
   "outputs": [
    {
     "data": {
      "text/plain": [
       "8.894470046082949"
      ]
     },
     "execution_count": 1,
     "metadata": {},
     "output_type": "execute_result"
    }
   ],
   "source": [
    "from endless_line.data_utils.dashboard_utils import DashboardUtils\n",
    "\n",
    "dashboard_utils = DashboardUtils()\n",
    "\n",
    "dashboard_utils.compute_kpi3()"
   ]
  },
  {
   "cell_type": "code",
   "execution_count": 8,
   "metadata": {},
   "outputs": [],
   "source": []
  },
  {
   "cell_type": "code",
   "execution_count": 3,
   "metadata": {},
   "outputs": [],
   "source": [
    "from endless_line.data_utils.dashboard_utils import DashboardUtils\n",
    "from datetime import datetime, timedelta\n",
    "\n",
    "dashboard_utils = DashboardUtils()\n",
    "\n",
    "hist,pred =dashboard_utils.predicted_waiting_time(datetime.today(), datetime.today() - timedelta(days=3))"
   ]
  },
  {
   "cell_type": "code",
   "execution_count": 10,
   "metadata": {},
   "outputs": [
    {
     "data": {
      "text/plain": [
       "Timestamp('2025-01-31 22:45:00')"
      ]
     },
     "execution_count": 10,
     "metadata": {},
     "output_type": "execute_result"
    }
   ],
   "source": [
    "df.DEB_TIME.max()"
   ]
  },
  {
   "cell_type": "code",
   "execution_count": 11,
   "metadata": {},
   "outputs": [
    {
     "data": {
      "text/plain": [
       "Timestamp('2025-01-01 09:00:00')"
      ]
     },
     "execution_count": 11,
     "metadata": {},
     "output_type": "execute_result"
    }
   ],
   "source": [
    "df.DEB_TIME.min()"
   ]
  },
  {
   "cell_type": "code",
   "execution_count": 1,
   "metadata": {},
   "outputs": [
    {
     "data": {
      "text/html": [
       "<div>\n",
       "<style scoped>\n",
       "    .dataframe tbody tr th:only-of-type {\n",
       "        vertical-align: middle;\n",
       "    }\n",
       "\n",
       "    .dataframe tbody tr th {\n",
       "        vertical-align: top;\n",
       "    }\n",
       "\n",
       "    .dataframe thead th {\n",
       "        text-align: right;\n",
       "    }\n",
       "</style>\n",
       "<table border=\"1\" class=\"dataframe\">\n",
       "  <thead>\n",
       "    <tr style=\"text-align: right;\">\n",
       "      <th></th>\n",
       "      <th>DEB_TIME</th>\n",
       "      <th>Source</th>\n",
       "      <th>Bumper Cars</th>\n",
       "      <th>Bungee Jump</th>\n",
       "      <th>Circus Train</th>\n",
       "      <th>Crazy Dance</th>\n",
       "      <th>Dizzy Dropper</th>\n",
       "      <th>Drop Tower</th>\n",
       "      <th>Flying Coaster</th>\n",
       "      <th>Free Fall</th>\n",
       "      <th>...</th>\n",
       "      <th>Merry Go Round</th>\n",
       "      <th>Oz Theatre</th>\n",
       "      <th>Rapids Ride</th>\n",
       "      <th>Roller Coaster</th>\n",
       "      <th>Spinning Coaster</th>\n",
       "      <th>Spiral Slide</th>\n",
       "      <th>Superman Ride</th>\n",
       "      <th>Swing Ride</th>\n",
       "      <th>Water Ride</th>\n",
       "      <th>Zipline</th>\n",
       "    </tr>\n",
       "  </thead>\n",
       "  <tbody>\n",
       "    <tr>\n",
       "      <th>0</th>\n",
       "      <td>2022-01-01 09:00:00</td>\n",
       "      <td>0</td>\n",
       "      <td>5.000000</td>\n",
       "      <td>5.000000</td>\n",
       "      <td>5.000000</td>\n",
       "      <td>5.000000</td>\n",
       "      <td>5.000000</td>\n",
       "      <td>5.000000</td>\n",
       "      <td>5.000000</td>\n",
       "      <td>0.000000</td>\n",
       "      <td>...</td>\n",
       "      <td>5.000000</td>\n",
       "      <td>0.000000</td>\n",
       "      <td>5.000000</td>\n",
       "      <td>0.000000</td>\n",
       "      <td>5.000000</td>\n",
       "      <td>0.000000</td>\n",
       "      <td>20.000000</td>\n",
       "      <td>5.000000</td>\n",
       "      <td>5.000000</td>\n",
       "      <td>5.000000</td>\n",
       "    </tr>\n",
       "    <tr>\n",
       "      <th>1</th>\n",
       "      <td>2022-01-01 09:15:00</td>\n",
       "      <td>0</td>\n",
       "      <td>5.000000</td>\n",
       "      <td>5.000000</td>\n",
       "      <td>5.000000</td>\n",
       "      <td>5.000000</td>\n",
       "      <td>5.000000</td>\n",
       "      <td>5.000000</td>\n",
       "      <td>5.000000</td>\n",
       "      <td>0.000000</td>\n",
       "      <td>...</td>\n",
       "      <td>5.000000</td>\n",
       "      <td>0.000000</td>\n",
       "      <td>5.000000</td>\n",
       "      <td>0.000000</td>\n",
       "      <td>5.000000</td>\n",
       "      <td>5.000000</td>\n",
       "      <td>20.000000</td>\n",
       "      <td>5.000000</td>\n",
       "      <td>5.000000</td>\n",
       "      <td>5.000000</td>\n",
       "    </tr>\n",
       "    <tr>\n",
       "      <th>2</th>\n",
       "      <td>2022-01-01 09:30:00</td>\n",
       "      <td>0</td>\n",
       "      <td>5.000000</td>\n",
       "      <td>5.000000</td>\n",
       "      <td>5.000000</td>\n",
       "      <td>5.000000</td>\n",
       "      <td>5.000000</td>\n",
       "      <td>15.000000</td>\n",
       "      <td>5.000000</td>\n",
       "      <td>0.000000</td>\n",
       "      <td>...</td>\n",
       "      <td>5.000000</td>\n",
       "      <td>0.000000</td>\n",
       "      <td>5.000000</td>\n",
       "      <td>0.000000</td>\n",
       "      <td>5.000000</td>\n",
       "      <td>5.000000</td>\n",
       "      <td>20.000000</td>\n",
       "      <td>5.000000</td>\n",
       "      <td>10.000000</td>\n",
       "      <td>15.000000</td>\n",
       "    </tr>\n",
       "    <tr>\n",
       "      <th>3</th>\n",
       "      <td>2022-01-01 09:45:00</td>\n",
       "      <td>0</td>\n",
       "      <td>5.000000</td>\n",
       "      <td>5.000000</td>\n",
       "      <td>5.000000</td>\n",
       "      <td>5.000000</td>\n",
       "      <td>5.000000</td>\n",
       "      <td>15.000000</td>\n",
       "      <td>5.000000</td>\n",
       "      <td>5.000000</td>\n",
       "      <td>...</td>\n",
       "      <td>5.000000</td>\n",
       "      <td>0.000000</td>\n",
       "      <td>5.000000</td>\n",
       "      <td>5.000000</td>\n",
       "      <td>15.000000</td>\n",
       "      <td>5.000000</td>\n",
       "      <td>20.000000</td>\n",
       "      <td>25.000000</td>\n",
       "      <td>30.000000</td>\n",
       "      <td>15.000000</td>\n",
       "    </tr>\n",
       "    <tr>\n",
       "      <th>4</th>\n",
       "      <td>2022-01-01 10:00:00</td>\n",
       "      <td>0</td>\n",
       "      <td>5.000000</td>\n",
       "      <td>10.000000</td>\n",
       "      <td>5.000000</td>\n",
       "      <td>5.000000</td>\n",
       "      <td>5.000000</td>\n",
       "      <td>15.000000</td>\n",
       "      <td>5.000000</td>\n",
       "      <td>70.000000</td>\n",
       "      <td>...</td>\n",
       "      <td>5.000000</td>\n",
       "      <td>0.000000</td>\n",
       "      <td>5.000000</td>\n",
       "      <td>25.000000</td>\n",
       "      <td>20.000000</td>\n",
       "      <td>5.000000</td>\n",
       "      <td>20.000000</td>\n",
       "      <td>55.000000</td>\n",
       "      <td>30.000000</td>\n",
       "      <td>10.000000</td>\n",
       "    </tr>\n",
       "    <tr>\n",
       "      <th>...</th>\n",
       "      <td>...</td>\n",
       "      <td>...</td>\n",
       "      <td>...</td>\n",
       "      <td>...</td>\n",
       "      <td>...</td>\n",
       "      <td>...</td>\n",
       "      <td>...</td>\n",
       "      <td>...</td>\n",
       "      <td>...</td>\n",
       "      <td>...</td>\n",
       "      <td>...</td>\n",
       "      <td>...</td>\n",
       "      <td>...</td>\n",
       "      <td>...</td>\n",
       "      <td>...</td>\n",
       "      <td>...</td>\n",
       "      <td>...</td>\n",
       "      <td>...</td>\n",
       "      <td>...</td>\n",
       "      <td>...</td>\n",
       "      <td>...</td>\n",
       "    </tr>\n",
       "    <tr>\n",
       "      <th>4923</th>\n",
       "      <td>2022-03-01 21:45:00</td>\n",
       "      <td>1</td>\n",
       "      <td>0.982980</td>\n",
       "      <td>1.012964</td>\n",
       "      <td>1.029434</td>\n",
       "      <td>1.015369</td>\n",
       "      <td>0.992115</td>\n",
       "      <td>1.024127</td>\n",
       "      <td>0.985191</td>\n",
       "      <td>1.005924</td>\n",
       "      <td>...</td>\n",
       "      <td>0.952993</td>\n",
       "      <td>0.996736</td>\n",
       "      <td>0.992980</td>\n",
       "      <td>1.012882</td>\n",
       "      <td>1.002252</td>\n",
       "      <td>1.002723</td>\n",
       "      <td>1.181932</td>\n",
       "      <td>1.167997</td>\n",
       "      <td>0.989208</td>\n",
       "      <td>1.054235</td>\n",
       "    </tr>\n",
       "    <tr>\n",
       "      <th>4924</th>\n",
       "      <td>2022-03-01 22:00:00</td>\n",
       "      <td>1</td>\n",
       "      <td>0.982196</td>\n",
       "      <td>1.014381</td>\n",
       "      <td>1.027421</td>\n",
       "      <td>1.014040</td>\n",
       "      <td>0.987993</td>\n",
       "      <td>1.023864</td>\n",
       "      <td>0.984184</td>\n",
       "      <td>1.008567</td>\n",
       "      <td>...</td>\n",
       "      <td>0.937839</td>\n",
       "      <td>0.995130</td>\n",
       "      <td>0.992891</td>\n",
       "      <td>1.014419</td>\n",
       "      <td>1.005180</td>\n",
       "      <td>1.005260</td>\n",
       "      <td>1.158090</td>\n",
       "      <td>1.148441</td>\n",
       "      <td>0.990385</td>\n",
       "      <td>1.048404</td>\n",
       "    </tr>\n",
       "    <tr>\n",
       "      <th>4925</th>\n",
       "      <td>2022-03-01 22:15:00</td>\n",
       "      <td>1</td>\n",
       "      <td>0.982196</td>\n",
       "      <td>1.014381</td>\n",
       "      <td>1.027421</td>\n",
       "      <td>1.014040</td>\n",
       "      <td>0.987993</td>\n",
       "      <td>1.023864</td>\n",
       "      <td>0.984184</td>\n",
       "      <td>1.008567</td>\n",
       "      <td>...</td>\n",
       "      <td>0.937839</td>\n",
       "      <td>0.995130</td>\n",
       "      <td>0.992891</td>\n",
       "      <td>1.014419</td>\n",
       "      <td>1.005180</td>\n",
       "      <td>1.005260</td>\n",
       "      <td>1.158090</td>\n",
       "      <td>1.148441</td>\n",
       "      <td>0.990385</td>\n",
       "      <td>1.048404</td>\n",
       "    </tr>\n",
       "    <tr>\n",
       "      <th>4926</th>\n",
       "      <td>2022-03-01 22:30:00</td>\n",
       "      <td>1</td>\n",
       "      <td>0.982196</td>\n",
       "      <td>1.014381</td>\n",
       "      <td>1.027421</td>\n",
       "      <td>1.014040</td>\n",
       "      <td>0.987993</td>\n",
       "      <td>1.023864</td>\n",
       "      <td>0.984184</td>\n",
       "      <td>1.008567</td>\n",
       "      <td>...</td>\n",
       "      <td>0.937839</td>\n",
       "      <td>0.995130</td>\n",
       "      <td>0.992891</td>\n",
       "      <td>1.014419</td>\n",
       "      <td>1.005180</td>\n",
       "      <td>1.005260</td>\n",
       "      <td>1.158090</td>\n",
       "      <td>1.148441</td>\n",
       "      <td>0.990385</td>\n",
       "      <td>1.048404</td>\n",
       "    </tr>\n",
       "    <tr>\n",
       "      <th>4927</th>\n",
       "      <td>2022-03-01 22:45:00</td>\n",
       "      <td>1</td>\n",
       "      <td>0.982196</td>\n",
       "      <td>1.014381</td>\n",
       "      <td>1.027421</td>\n",
       "      <td>1.014040</td>\n",
       "      <td>0.987993</td>\n",
       "      <td>1.023864</td>\n",
       "      <td>0.984184</td>\n",
       "      <td>1.008567</td>\n",
       "      <td>...</td>\n",
       "      <td>0.937839</td>\n",
       "      <td>0.995130</td>\n",
       "      <td>0.992891</td>\n",
       "      <td>1.014419</td>\n",
       "      <td>1.005180</td>\n",
       "      <td>1.005260</td>\n",
       "      <td>1.158090</td>\n",
       "      <td>1.148441</td>\n",
       "      <td>0.990385</td>\n",
       "      <td>1.048404</td>\n",
       "    </tr>\n",
       "  </tbody>\n",
       "</table>\n",
       "<p>4928 rows × 27 columns</p>\n",
       "</div>"
      ],
      "text/plain": [
       "                 DEB_TIME  Source  Bumper Cars  Bungee Jump  Circus Train  \\\n",
       "0     2022-01-01 09:00:00       0     5.000000     5.000000      5.000000   \n",
       "1     2022-01-01 09:15:00       0     5.000000     5.000000      5.000000   \n",
       "2     2022-01-01 09:30:00       0     5.000000     5.000000      5.000000   \n",
       "3     2022-01-01 09:45:00       0     5.000000     5.000000      5.000000   \n",
       "4     2022-01-01 10:00:00       0     5.000000    10.000000      5.000000   \n",
       "...                   ...     ...          ...          ...           ...   \n",
       "4923  2022-03-01 21:45:00       1     0.982980     1.012964      1.029434   \n",
       "4924  2022-03-01 22:00:00       1     0.982196     1.014381      1.027421   \n",
       "4925  2022-03-01 22:15:00       1     0.982196     1.014381      1.027421   \n",
       "4926  2022-03-01 22:30:00       1     0.982196     1.014381      1.027421   \n",
       "4927  2022-03-01 22:45:00       1     0.982196     1.014381      1.027421   \n",
       "\n",
       "      Crazy Dance  Dizzy Dropper  Drop Tower  Flying Coaster  Free Fall  ...  \\\n",
       "0        5.000000       5.000000    5.000000        5.000000   0.000000  ...   \n",
       "1        5.000000       5.000000    5.000000        5.000000   0.000000  ...   \n",
       "2        5.000000       5.000000   15.000000        5.000000   0.000000  ...   \n",
       "3        5.000000       5.000000   15.000000        5.000000   5.000000  ...   \n",
       "4        5.000000       5.000000   15.000000        5.000000  70.000000  ...   \n",
       "...           ...            ...         ...             ...        ...  ...   \n",
       "4923     1.015369       0.992115    1.024127        0.985191   1.005924  ...   \n",
       "4924     1.014040       0.987993    1.023864        0.984184   1.008567  ...   \n",
       "4925     1.014040       0.987993    1.023864        0.984184   1.008567  ...   \n",
       "4926     1.014040       0.987993    1.023864        0.984184   1.008567  ...   \n",
       "4927     1.014040       0.987993    1.023864        0.984184   1.008567  ...   \n",
       "\n",
       "      Merry Go Round  Oz Theatre  Rapids Ride  Roller Coaster  \\\n",
       "0           5.000000    0.000000     5.000000        0.000000   \n",
       "1           5.000000    0.000000     5.000000        0.000000   \n",
       "2           5.000000    0.000000     5.000000        0.000000   \n",
       "3           5.000000    0.000000     5.000000        5.000000   \n",
       "4           5.000000    0.000000     5.000000       25.000000   \n",
       "...              ...         ...          ...             ...   \n",
       "4923        0.952993    0.996736     0.992980        1.012882   \n",
       "4924        0.937839    0.995130     0.992891        1.014419   \n",
       "4925        0.937839    0.995130     0.992891        1.014419   \n",
       "4926        0.937839    0.995130     0.992891        1.014419   \n",
       "4927        0.937839    0.995130     0.992891        1.014419   \n",
       "\n",
       "      Spinning Coaster  Spiral Slide  Superman Ride  Swing Ride  Water Ride  \\\n",
       "0             5.000000      0.000000      20.000000    5.000000    5.000000   \n",
       "1             5.000000      5.000000      20.000000    5.000000    5.000000   \n",
       "2             5.000000      5.000000      20.000000    5.000000   10.000000   \n",
       "3            15.000000      5.000000      20.000000   25.000000   30.000000   \n",
       "4            20.000000      5.000000      20.000000   55.000000   30.000000   \n",
       "...                ...           ...            ...         ...         ...   \n",
       "4923          1.002252      1.002723       1.181932    1.167997    0.989208   \n",
       "4924          1.005180      1.005260       1.158090    1.148441    0.990385   \n",
       "4925          1.005180      1.005260       1.158090    1.148441    0.990385   \n",
       "4926          1.005180      1.005260       1.158090    1.148441    0.990385   \n",
       "4927          1.005180      1.005260       1.158090    1.148441    0.990385   \n",
       "\n",
       "        Zipline  \n",
       "0      5.000000  \n",
       "1      5.000000  \n",
       "2     15.000000  \n",
       "3     15.000000  \n",
       "4     10.000000  \n",
       "...         ...  \n",
       "4923   1.054235  \n",
       "4924   1.048404  \n",
       "4925   1.048404  \n",
       "4926   1.048404  \n",
       "4927   1.048404  \n",
       "\n",
       "[4928 rows x 27 columns]"
      ]
     },
     "execution_count": 1,
     "metadata": {},
     "output_type": "execute_result"
    }
   ],
   "source": [
    "from endless_line.data_utils.dashboard_utils import DashboardUtils\n",
    "from datetime import datetime, timedelta\n",
    "\n",
    "dashboard_utils = DashboardUtils()\n",
    "\n",
    "dashboard_utils.compute_kpi2()"
   ]
  },
  {
   "cell_type": "code",
   "execution_count": 26,
   "metadata": {},
   "outputs": [
    {
     "data": {
      "application/vnd.plotly.v1+json": {
       "config": {
        "plotlyServerURL": "https://plot.ly"
       },
       "data": [
        {
         "alignmentgroup": "True",
         "hovertemplate": "variable=0<br>index=%{x}<br>value=%{y}<extra></extra>",
         "legendgroup": "0",
         "marker": {
          "color": "#636efa",
          "pattern": {
           "shape": ""
          }
         },
         "name": "0",
         "offsetgroup": "0",
         "orientation": "v",
         "showlegend": true,
         "textposition": "auto",
         "type": "bar",
         "x": [
          "Bumper Cars",
          "Bungee Jump",
          "Circus Train",
          "Crazy Dance",
          "Dizzy Dropper",
          "Drop Tower",
          "Flying Coaster",
          "Free Fall",
          "Giant Wheel",
          "Giga Coaster",
          "Go-Karts",
          "Haunted House",
          "Himalaya Ride",
          "Inverted Coaster",
          "Kiddie Coaster",
          "Merry Go Round",
          "Oz Theatre",
          "Rapids Ride",
          "Roller Coaster",
          "Spinning Coaster",
          "Spiral Slide",
          "Superman Ride",
          "Swing Ride",
          "Water Ride",
          "Zipline"
         ],
         "xaxis": "x",
         "y": [
          1.5868698823322143,
          2.0431163896569173,
          0.7913811130330659,
          1.026943667021592,
          1.6778230123151996,
          1.328631929167475,
          1.6280697619065025,
          1.360706699674384,
          1.2033535703232376,
          null,
          2.1699663466642076,
          2.709642062638055,
          null,
          3.5903258534755835,
          1.3444178990446438,
          1.9285947288366987,
          1.9357461821369792,
          2.339582480765015,
          2.6334856930716404,
          1.3012514090443246,
          0.23506326664203242,
          null,
          1.2423093255916775,
          2.11220250883828,
          1.368996188823533
         ],
         "yaxis": "y"
        }
       ],
       "layout": {
        "barmode": "relative",
        "legend": {
         "title": {
          "text": "variable"
         },
         "tracegroupgap": 0
        },
        "margin": {
         "t": 60
        },
        "template": {
         "data": {
          "bar": [
           {
            "error_x": {
             "color": "#2a3f5f"
            },
            "error_y": {
             "color": "#2a3f5f"
            },
            "marker": {
             "line": {
              "color": "#E5ECF6",
              "width": 0.5
             },
             "pattern": {
              "fillmode": "overlay",
              "size": 10,
              "solidity": 0.2
             }
            },
            "type": "bar"
           }
          ],
          "barpolar": [
           {
            "marker": {
             "line": {
              "color": "#E5ECF6",
              "width": 0.5
             },
             "pattern": {
              "fillmode": "overlay",
              "size": 10,
              "solidity": 0.2
             }
            },
            "type": "barpolar"
           }
          ],
          "carpet": [
           {
            "aaxis": {
             "endlinecolor": "#2a3f5f",
             "gridcolor": "white",
             "linecolor": "white",
             "minorgridcolor": "white",
             "startlinecolor": "#2a3f5f"
            },
            "baxis": {
             "endlinecolor": "#2a3f5f",
             "gridcolor": "white",
             "linecolor": "white",
             "minorgridcolor": "white",
             "startlinecolor": "#2a3f5f"
            },
            "type": "carpet"
           }
          ],
          "choropleth": [
           {
            "colorbar": {
             "outlinewidth": 0,
             "ticks": ""
            },
            "type": "choropleth"
           }
          ],
          "contour": [
           {
            "colorbar": {
             "outlinewidth": 0,
             "ticks": ""
            },
            "colorscale": [
             [
              0,
              "#0d0887"
             ],
             [
              0.1111111111111111,
              "#46039f"
             ],
             [
              0.2222222222222222,
              "#7201a8"
             ],
             [
              0.3333333333333333,
              "#9c179e"
             ],
             [
              0.4444444444444444,
              "#bd3786"
             ],
             [
              0.5555555555555556,
              "#d8576b"
             ],
             [
              0.6666666666666666,
              "#ed7953"
             ],
             [
              0.7777777777777778,
              "#fb9f3a"
             ],
             [
              0.8888888888888888,
              "#fdca26"
             ],
             [
              1,
              "#f0f921"
             ]
            ],
            "type": "contour"
           }
          ],
          "contourcarpet": [
           {
            "colorbar": {
             "outlinewidth": 0,
             "ticks": ""
            },
            "type": "contourcarpet"
           }
          ],
          "heatmap": [
           {
            "colorbar": {
             "outlinewidth": 0,
             "ticks": ""
            },
            "colorscale": [
             [
              0,
              "#0d0887"
             ],
             [
              0.1111111111111111,
              "#46039f"
             ],
             [
              0.2222222222222222,
              "#7201a8"
             ],
             [
              0.3333333333333333,
              "#9c179e"
             ],
             [
              0.4444444444444444,
              "#bd3786"
             ],
             [
              0.5555555555555556,
              "#d8576b"
             ],
             [
              0.6666666666666666,
              "#ed7953"
             ],
             [
              0.7777777777777778,
              "#fb9f3a"
             ],
             [
              0.8888888888888888,
              "#fdca26"
             ],
             [
              1,
              "#f0f921"
             ]
            ],
            "type": "heatmap"
           }
          ],
          "heatmapgl": [
           {
            "colorbar": {
             "outlinewidth": 0,
             "ticks": ""
            },
            "colorscale": [
             [
              0,
              "#0d0887"
             ],
             [
              0.1111111111111111,
              "#46039f"
             ],
             [
              0.2222222222222222,
              "#7201a8"
             ],
             [
              0.3333333333333333,
              "#9c179e"
             ],
             [
              0.4444444444444444,
              "#bd3786"
             ],
             [
              0.5555555555555556,
              "#d8576b"
             ],
             [
              0.6666666666666666,
              "#ed7953"
             ],
             [
              0.7777777777777778,
              "#fb9f3a"
             ],
             [
              0.8888888888888888,
              "#fdca26"
             ],
             [
              1,
              "#f0f921"
             ]
            ],
            "type": "heatmapgl"
           }
          ],
          "histogram": [
           {
            "marker": {
             "pattern": {
              "fillmode": "overlay",
              "size": 10,
              "solidity": 0.2
             }
            },
            "type": "histogram"
           }
          ],
          "histogram2d": [
           {
            "colorbar": {
             "outlinewidth": 0,
             "ticks": ""
            },
            "colorscale": [
             [
              0,
              "#0d0887"
             ],
             [
              0.1111111111111111,
              "#46039f"
             ],
             [
              0.2222222222222222,
              "#7201a8"
             ],
             [
              0.3333333333333333,
              "#9c179e"
             ],
             [
              0.4444444444444444,
              "#bd3786"
             ],
             [
              0.5555555555555556,
              "#d8576b"
             ],
             [
              0.6666666666666666,
              "#ed7953"
             ],
             [
              0.7777777777777778,
              "#fb9f3a"
             ],
             [
              0.8888888888888888,
              "#fdca26"
             ],
             [
              1,
              "#f0f921"
             ]
            ],
            "type": "histogram2d"
           }
          ],
          "histogram2dcontour": [
           {
            "colorbar": {
             "outlinewidth": 0,
             "ticks": ""
            },
            "colorscale": [
             [
              0,
              "#0d0887"
             ],
             [
              0.1111111111111111,
              "#46039f"
             ],
             [
              0.2222222222222222,
              "#7201a8"
             ],
             [
              0.3333333333333333,
              "#9c179e"
             ],
             [
              0.4444444444444444,
              "#bd3786"
             ],
             [
              0.5555555555555556,
              "#d8576b"
             ],
             [
              0.6666666666666666,
              "#ed7953"
             ],
             [
              0.7777777777777778,
              "#fb9f3a"
             ],
             [
              0.8888888888888888,
              "#fdca26"
             ],
             [
              1,
              "#f0f921"
             ]
            ],
            "type": "histogram2dcontour"
           }
          ],
          "mesh3d": [
           {
            "colorbar": {
             "outlinewidth": 0,
             "ticks": ""
            },
            "type": "mesh3d"
           }
          ],
          "parcoords": [
           {
            "line": {
             "colorbar": {
              "outlinewidth": 0,
              "ticks": ""
             }
            },
            "type": "parcoords"
           }
          ],
          "pie": [
           {
            "automargin": true,
            "type": "pie"
           }
          ],
          "scatter": [
           {
            "fillpattern": {
             "fillmode": "overlay",
             "size": 10,
             "solidity": 0.2
            },
            "type": "scatter"
           }
          ],
          "scatter3d": [
           {
            "line": {
             "colorbar": {
              "outlinewidth": 0,
              "ticks": ""
             }
            },
            "marker": {
             "colorbar": {
              "outlinewidth": 0,
              "ticks": ""
             }
            },
            "type": "scatter3d"
           }
          ],
          "scattercarpet": [
           {
            "marker": {
             "colorbar": {
              "outlinewidth": 0,
              "ticks": ""
             }
            },
            "type": "scattercarpet"
           }
          ],
          "scattergeo": [
           {
            "marker": {
             "colorbar": {
              "outlinewidth": 0,
              "ticks": ""
             }
            },
            "type": "scattergeo"
           }
          ],
          "scattergl": [
           {
            "marker": {
             "colorbar": {
              "outlinewidth": 0,
              "ticks": ""
             }
            },
            "type": "scattergl"
           }
          ],
          "scattermapbox": [
           {
            "marker": {
             "colorbar": {
              "outlinewidth": 0,
              "ticks": ""
             }
            },
            "type": "scattermapbox"
           }
          ],
          "scatterpolar": [
           {
            "marker": {
             "colorbar": {
              "outlinewidth": 0,
              "ticks": ""
             }
            },
            "type": "scatterpolar"
           }
          ],
          "scatterpolargl": [
           {
            "marker": {
             "colorbar": {
              "outlinewidth": 0,
              "ticks": ""
             }
            },
            "type": "scatterpolargl"
           }
          ],
          "scatterternary": [
           {
            "marker": {
             "colorbar": {
              "outlinewidth": 0,
              "ticks": ""
             }
            },
            "type": "scatterternary"
           }
          ],
          "surface": [
           {
            "colorbar": {
             "outlinewidth": 0,
             "ticks": ""
            },
            "colorscale": [
             [
              0,
              "#0d0887"
             ],
             [
              0.1111111111111111,
              "#46039f"
             ],
             [
              0.2222222222222222,
              "#7201a8"
             ],
             [
              0.3333333333333333,
              "#9c179e"
             ],
             [
              0.4444444444444444,
              "#bd3786"
             ],
             [
              0.5555555555555556,
              "#d8576b"
             ],
             [
              0.6666666666666666,
              "#ed7953"
             ],
             [
              0.7777777777777778,
              "#fb9f3a"
             ],
             [
              0.8888888888888888,
              "#fdca26"
             ],
             [
              1,
              "#f0f921"
             ]
            ],
            "type": "surface"
           }
          ],
          "table": [
           {
            "cells": {
             "fill": {
              "color": "#EBF0F8"
             },
             "line": {
              "color": "white"
             }
            },
            "header": {
             "fill": {
              "color": "#C8D4E3"
             },
             "line": {
              "color": "white"
             }
            },
            "type": "table"
           }
          ]
         },
         "layout": {
          "annotationdefaults": {
           "arrowcolor": "#2a3f5f",
           "arrowhead": 0,
           "arrowwidth": 1
          },
          "autotypenumbers": "strict",
          "coloraxis": {
           "colorbar": {
            "outlinewidth": 0,
            "ticks": ""
           }
          },
          "colorscale": {
           "diverging": [
            [
             0,
             "#8e0152"
            ],
            [
             0.1,
             "#c51b7d"
            ],
            [
             0.2,
             "#de77ae"
            ],
            [
             0.3,
             "#f1b6da"
            ],
            [
             0.4,
             "#fde0ef"
            ],
            [
             0.5,
             "#f7f7f7"
            ],
            [
             0.6,
             "#e6f5d0"
            ],
            [
             0.7,
             "#b8e186"
            ],
            [
             0.8,
             "#7fbc41"
            ],
            [
             0.9,
             "#4d9221"
            ],
            [
             1,
             "#276419"
            ]
           ],
           "sequential": [
            [
             0,
             "#0d0887"
            ],
            [
             0.1111111111111111,
             "#46039f"
            ],
            [
             0.2222222222222222,
             "#7201a8"
            ],
            [
             0.3333333333333333,
             "#9c179e"
            ],
            [
             0.4444444444444444,
             "#bd3786"
            ],
            [
             0.5555555555555556,
             "#d8576b"
            ],
            [
             0.6666666666666666,
             "#ed7953"
            ],
            [
             0.7777777777777778,
             "#fb9f3a"
            ],
            [
             0.8888888888888888,
             "#fdca26"
            ],
            [
             1,
             "#f0f921"
            ]
           ],
           "sequentialminus": [
            [
             0,
             "#0d0887"
            ],
            [
             0.1111111111111111,
             "#46039f"
            ],
            [
             0.2222222222222222,
             "#7201a8"
            ],
            [
             0.3333333333333333,
             "#9c179e"
            ],
            [
             0.4444444444444444,
             "#bd3786"
            ],
            [
             0.5555555555555556,
             "#d8576b"
            ],
            [
             0.6666666666666666,
             "#ed7953"
            ],
            [
             0.7777777777777778,
             "#fb9f3a"
            ],
            [
             0.8888888888888888,
             "#fdca26"
            ],
            [
             1,
             "#f0f921"
            ]
           ]
          },
          "colorway": [
           "#636efa",
           "#EF553B",
           "#00cc96",
           "#ab63fa",
           "#FFA15A",
           "#19d3f3",
           "#FF6692",
           "#B6E880",
           "#FF97FF",
           "#FECB52"
          ],
          "font": {
           "color": "#2a3f5f"
          },
          "geo": {
           "bgcolor": "white",
           "lakecolor": "white",
           "landcolor": "#E5ECF6",
           "showlakes": true,
           "showland": true,
           "subunitcolor": "white"
          },
          "hoverlabel": {
           "align": "left"
          },
          "hovermode": "closest",
          "mapbox": {
           "style": "light"
          },
          "paper_bgcolor": "white",
          "plot_bgcolor": "#E5ECF6",
          "polar": {
           "angularaxis": {
            "gridcolor": "white",
            "linecolor": "white",
            "ticks": ""
           },
           "bgcolor": "#E5ECF6",
           "radialaxis": {
            "gridcolor": "white",
            "linecolor": "white",
            "ticks": ""
           }
          },
          "scene": {
           "xaxis": {
            "backgroundcolor": "#E5ECF6",
            "gridcolor": "white",
            "gridwidth": 2,
            "linecolor": "white",
            "showbackground": true,
            "ticks": "",
            "zerolinecolor": "white"
           },
           "yaxis": {
            "backgroundcolor": "#E5ECF6",
            "gridcolor": "white",
            "gridwidth": 2,
            "linecolor": "white",
            "showbackground": true,
            "ticks": "",
            "zerolinecolor": "white"
           },
           "zaxis": {
            "backgroundcolor": "#E5ECF6",
            "gridcolor": "white",
            "gridwidth": 2,
            "linecolor": "white",
            "showbackground": true,
            "ticks": "",
            "zerolinecolor": "white"
           }
          },
          "shapedefaults": {
           "line": {
            "color": "#2a3f5f"
           }
          },
          "ternary": {
           "aaxis": {
            "gridcolor": "white",
            "linecolor": "white",
            "ticks": ""
           },
           "baxis": {
            "gridcolor": "white",
            "linecolor": "white",
            "ticks": ""
           },
           "bgcolor": "#E5ECF6",
           "caxis": {
            "gridcolor": "white",
            "linecolor": "white",
            "ticks": ""
           }
          },
          "title": {
           "x": 0.05
          },
          "xaxis": {
           "automargin": true,
           "gridcolor": "white",
           "linecolor": "white",
           "ticks": "",
           "title": {
            "standoff": 15
           },
           "zerolinecolor": "white",
           "zerolinewidth": 2
          },
          "yaxis": {
           "automargin": true,
           "gridcolor": "white",
           "linecolor": "white",
           "ticks": "",
           "title": {
            "standoff": 15
           },
           "zerolinecolor": "white",
           "zerolinewidth": 2
          }
         }
        },
        "xaxis": {
         "anchor": "y",
         "domain": [
          0,
          1
         ],
         "title": {
          "text": "index"
         }
        },
        "yaxis": {
         "anchor": "x",
         "domain": [
          0,
          1
         ],
         "title": {
          "text": "value"
         }
        }
       }
      }
     },
     "metadata": {},
     "output_type": "display_data"
    }
   ],
   "source": [
    "import pandas as pd\n",
    "import plotly.express as px\n",
    "df = dashboard_utils.compute_kpi2().sort_values(by='DEB_TIME')\n",
    "#df = df.drop(columns=['Giga Coaster', 'Himalaya Ride', 'Superman Ride'])\n",
    "df['DEB_TIME'] = pd.to_datetime(df['DEB_TIME'])\n",
    "df = df[['DEB_TIME'] + attractions]\n",
    "df = df[df['DEB_TIME'] >= datetime(2022, 2, 1)].sort_values(by='DEB_TIME').reset_index(drop=True)\n",
    "df_predicted = df[df['Source'] == 1].drop(columns=['Source'])\n",
    "df_actual = df[df['Source'] == 0].drop(columns=['Source'])\n",
    "\n",
    "for i in range(len(df_predicted.columns)):\n",
    "    if df_predicted.columns[i] == 'DEB_TIME':\n",
    "        continue\n",
    "    df_actual[f'{df_predicted.columns[i]}_actual'] = df_actual[df_predicted.columns[i]]\n",
    "    df_actual.drop(columns=[df_predicted.columns[i]], inplace=True)\n",
    "\n",
    "act_vs_pred = df_actual.merge(df_predicted, on='DEB_TIME', how='left')\n",
    "\n",
    "for i in range(len(df_predicted.columns)):\n",
    "    if df_predicted.columns[i] == 'DEB_TIME':\n",
    "        continue\n",
    "    act_vs_pred[f'{df_predicted.columns[i]}_ratio'] = act_vs_pred[f'{df_predicted.columns[i]}_actual'] / act_vs_pred[df_predicted.columns[i]]\n",
    "    act_vs_pred.drop(columns=[df_predicted.columns[i], f'{df_predicted.columns[i]}_actual'], inplace=True)\n",
    "\n",
    "act_vs_pred.drop(columns=['DEB_TIME'], inplace=True)\n",
    "WTEI_ratios =act_vs_pred.apply(lambda x: x[x != 0].mean(), axis=0).rename(index=lambda x: x.replace('_ratio', ''))\n",
    "\n",
    "\n",
    "px.bar(WTEI_ratios)"
   ]
  },
  {
   "cell_type": "code",
   "execution_count": 7,
   "metadata": {},
   "outputs": [],
   "source": [
    "from endless_line.data_utils.dashboard_utils import DashboardUtils\n",
    "from datetime import datetime, timedelta\n",
    "from endless_line.data_utils.weather_forecast import WeatherForecast\n",
    "\n",
    "dashboard_utils = DashboardUtils()\n",
    "weather_utils = WeatherForecast()\n"
   ]
  },
  {
   "cell_type": "code",
   "execution_count": 9,
   "metadata": {},
   "outputs": [
    {
     "data": {
      "text/html": [
       "<div>\n",
       "<style scoped>\n",
       "    .dataframe tbody tr th:only-of-type {\n",
       "        vertical-align: middle;\n",
       "    }\n",
       "\n",
       "    .dataframe tbody tr th {\n",
       "        vertical-align: top;\n",
       "    }\n",
       "\n",
       "    .dataframe thead th {\n",
       "        text-align: right;\n",
       "    }\n",
       "</style>\n",
       "<table border=\"1\" class=\"dataframe\">\n",
       "  <thead>\n",
       "    <tr style=\"text-align: right;\">\n",
       "      <th></th>\n",
       "      <th>dt_iso</th>\n",
       "      <th>temp</th>\n",
       "      <th>feels_like</th>\n",
       "      <th>pressure</th>\n",
       "      <th>humidity</th>\n",
       "      <th>weather_main</th>\n",
       "      <th>weather_description</th>\n",
       "      <th>weather_icon</th>\n",
       "      <th>clouds_all</th>\n",
       "      <th>wind_speed</th>\n",
       "    </tr>\n",
       "  </thead>\n",
       "  <tbody>\n",
       "    <tr>\n",
       "      <th>0</th>\n",
       "      <td>2025-02-14 00:00:00</td>\n",
       "      <td>3.17</td>\n",
       "      <td>0.33</td>\n",
       "      <td>1023.0</td>\n",
       "      <td>78.0</td>\n",
       "      <td>Clouds</td>\n",
       "      <td>overcast clouds</td>\n",
       "      <td>04n</td>\n",
       "      <td>88.0</td>\n",
       "      <td>2.97</td>\n",
       "    </tr>\n",
       "    <tr>\n",
       "      <th>1</th>\n",
       "      <td>2025-02-14 01:00:00</td>\n",
       "      <td>3.17</td>\n",
       "      <td>0.33</td>\n",
       "      <td>1023.0</td>\n",
       "      <td>78.0</td>\n",
       "      <td>Clouds</td>\n",
       "      <td>overcast clouds</td>\n",
       "      <td>04n</td>\n",
       "      <td>88.0</td>\n",
       "      <td>2.97</td>\n",
       "    </tr>\n",
       "    <tr>\n",
       "      <th>2</th>\n",
       "      <td>2025-02-14 02:00:00</td>\n",
       "      <td>3.17</td>\n",
       "      <td>0.33</td>\n",
       "      <td>1023.0</td>\n",
       "      <td>78.0</td>\n",
       "      <td>Clouds</td>\n",
       "      <td>overcast clouds</td>\n",
       "      <td>04n</td>\n",
       "      <td>88.0</td>\n",
       "      <td>2.97</td>\n",
       "    </tr>\n",
       "    <tr>\n",
       "      <th>3</th>\n",
       "      <td>2025-02-14 03:00:00</td>\n",
       "      <td>1.85</td>\n",
       "      <td>-0.78</td>\n",
       "      <td>1024.0</td>\n",
       "      <td>72.0</td>\n",
       "      <td>Clouds</td>\n",
       "      <td>scattered clouds</td>\n",
       "      <td>03n</td>\n",
       "      <td>39.0</td>\n",
       "      <td>2.45</td>\n",
       "    </tr>\n",
       "    <tr>\n",
       "      <th>4</th>\n",
       "      <td>2025-02-14 04:00:00</td>\n",
       "      <td>1.85</td>\n",
       "      <td>-0.78</td>\n",
       "      <td>1024.0</td>\n",
       "      <td>72.0</td>\n",
       "      <td>Clouds</td>\n",
       "      <td>scattered clouds</td>\n",
       "      <td>03n</td>\n",
       "      <td>39.0</td>\n",
       "      <td>2.45</td>\n",
       "    </tr>\n",
       "    <tr>\n",
       "      <th>...</th>\n",
       "      <td>...</td>\n",
       "      <td>...</td>\n",
       "      <td>...</td>\n",
       "      <td>...</td>\n",
       "      <td>...</td>\n",
       "      <td>...</td>\n",
       "      <td>...</td>\n",
       "      <td>...</td>\n",
       "      <td>...</td>\n",
       "      <td>...</td>\n",
       "    </tr>\n",
       "    <tr>\n",
       "      <th>113</th>\n",
       "      <td>2025-02-18 17:00:00</td>\n",
       "      <td>12.33</td>\n",
       "      <td>10.77</td>\n",
       "      <td>1018.0</td>\n",
       "      <td>44.0</td>\n",
       "      <td>Clouds</td>\n",
       "      <td>scattered clouds</td>\n",
       "      <td>03d</td>\n",
       "      <td>45.0</td>\n",
       "      <td>3.27</td>\n",
       "    </tr>\n",
       "    <tr>\n",
       "      <th>114</th>\n",
       "      <td>2025-02-18 18:00:00</td>\n",
       "      <td>9.80</td>\n",
       "      <td>8.59</td>\n",
       "      <td>1019.0</td>\n",
       "      <td>63.0</td>\n",
       "      <td>Clouds</td>\n",
       "      <td>broken clouds</td>\n",
       "      <td>04n</td>\n",
       "      <td>70.0</td>\n",
       "      <td>2.50</td>\n",
       "    </tr>\n",
       "    <tr>\n",
       "      <th>115</th>\n",
       "      <td>2025-02-18 19:00:00</td>\n",
       "      <td>9.80</td>\n",
       "      <td>8.59</td>\n",
       "      <td>1019.0</td>\n",
       "      <td>63.0</td>\n",
       "      <td>Clouds</td>\n",
       "      <td>broken clouds</td>\n",
       "      <td>04n</td>\n",
       "      <td>70.0</td>\n",
       "      <td>2.50</td>\n",
       "    </tr>\n",
       "    <tr>\n",
       "      <th>116</th>\n",
       "      <td>2025-02-18 20:00:00</td>\n",
       "      <td>9.80</td>\n",
       "      <td>8.59</td>\n",
       "      <td>1019.0</td>\n",
       "      <td>63.0</td>\n",
       "      <td>Clouds</td>\n",
       "      <td>broken clouds</td>\n",
       "      <td>04n</td>\n",
       "      <td>70.0</td>\n",
       "      <td>2.50</td>\n",
       "    </tr>\n",
       "    <tr>\n",
       "      <th>117</th>\n",
       "      <td>2025-02-18 21:00:00</td>\n",
       "      <td>8.32</td>\n",
       "      <td>7.34</td>\n",
       "      <td>1019.0</td>\n",
       "      <td>76.0</td>\n",
       "      <td>Clouds</td>\n",
       "      <td>overcast clouds</td>\n",
       "      <td>04n</td>\n",
       "      <td>100.0</td>\n",
       "      <td>1.88</td>\n",
       "    </tr>\n",
       "  </tbody>\n",
       "</table>\n",
       "<p>118 rows × 10 columns</p>\n",
       "</div>"
      ],
      "text/plain": [
       "                 dt_iso   temp  feels_like  pressure  humidity weather_main  \\\n",
       "0   2025-02-14 00:00:00   3.17        0.33    1023.0      78.0       Clouds   \n",
       "1   2025-02-14 01:00:00   3.17        0.33    1023.0      78.0       Clouds   \n",
       "2   2025-02-14 02:00:00   3.17        0.33    1023.0      78.0       Clouds   \n",
       "3   2025-02-14 03:00:00   1.85       -0.78    1024.0      72.0       Clouds   \n",
       "4   2025-02-14 04:00:00   1.85       -0.78    1024.0      72.0       Clouds   \n",
       "..                  ...    ...         ...       ...       ...          ...   \n",
       "113 2025-02-18 17:00:00  12.33       10.77    1018.0      44.0       Clouds   \n",
       "114 2025-02-18 18:00:00   9.80        8.59    1019.0      63.0       Clouds   \n",
       "115 2025-02-18 19:00:00   9.80        8.59    1019.0      63.0       Clouds   \n",
       "116 2025-02-18 20:00:00   9.80        8.59    1019.0      63.0       Clouds   \n",
       "117 2025-02-18 21:00:00   8.32        7.34    1019.0      76.0       Clouds   \n",
       "\n",
       "    weather_description weather_icon  clouds_all  wind_speed  \n",
       "0       overcast clouds          04n        88.0        2.97  \n",
       "1       overcast clouds          04n        88.0        2.97  \n",
       "2       overcast clouds          04n        88.0        2.97  \n",
       "3      scattered clouds          03n        39.0        2.45  \n",
       "4      scattered clouds          03n        39.0        2.45  \n",
       "..                  ...          ...         ...         ...  \n",
       "113    scattered clouds          03d        45.0        3.27  \n",
       "114       broken clouds          04n        70.0        2.50  \n",
       "115       broken clouds          04n        70.0        2.50  \n",
       "116       broken clouds          04n        70.0        2.50  \n",
       "117     overcast clouds          04n       100.0        1.88  \n",
       "\n",
       "[118 rows x 10 columns]"
      ]
     },
     "execution_count": 9,
     "metadata": {},
     "output_type": "execute_result"
    }
   ],
   "source": [
    "hist,pred = dashboard_utils.predicted_waiting_time(datetime.today(), datetime.today() - timedelta(days=1))\n",
    "weather_utils.get_forecast()\n",
    "\n",
    "\n"
   ]
  },
  {
   "cell_type": "code",
   "execution_count": null,
   "metadata": {},
   "outputs": [],
   "source": []
  }
 ],
 "metadata": {
  "kernelspec": {
   "display_name": "Python 3",
   "language": "python",
   "name": "python3"
  },
  "language_info": {
   "codemirror_mode": {
    "name": "ipython",
    "version": 3
   },
   "file_extension": ".py",
   "mimetype": "text/x-python",
   "name": "python",
   "nbconvert_exporter": "python",
   "pygments_lexer": "ipython3",
   "version": "3.10.13"
  }
 },
 "nbformat": 4,
 "nbformat_minor": 2
}
