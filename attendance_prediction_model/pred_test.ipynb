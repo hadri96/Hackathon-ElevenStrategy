{
 "cells": [
  {
   "cell_type": "code",
   "execution_count": 2,
   "metadata": {},
   "outputs": [],
   "source": [
    "import pandas as pd\n",
    "import numpy as np\n",
    "from endless_line.data_utils.dataloader import DataLoader"
   ]
  },
  {
   "cell_type": "code",
   "execution_count": 8,
   "metadata": {},
   "outputs": [
    {
     "ename": "NameError",
     "evalue": "name 'df' is not defined",
     "output_type": "error",
     "traceback": [
      "\u001b[0;31m---------------------------------------------------------------------------\u001b[0m",
      "\u001b[0;31mNameError\u001b[0m                                 Traceback (most recent call last)",
      "Cell \u001b[0;32mIn[8], line 3\u001b[0m\n\u001b[1;32m      1\u001b[0m data \u001b[38;5;241m=\u001b[39m DataLoader(load_all_files\u001b[38;5;241m=\u001b[39m\u001b[38;5;28;01mTrue\u001b[39;00m)\n\u001b[1;32m      2\u001b[0m data\u001b[38;5;241m.\u001b[39mclean_data()\n\u001b[0;32m----> 3\u001b[0m data\u001b[38;5;241m.\u001b[39mdata_preprocessing()\n\u001b[1;32m      4\u001b[0m df_weather \u001b[38;5;241m=\u001b[39m data\u001b[38;5;241m.\u001b[39mweather\n",
      "File \u001b[0;32m~/Hackathon-ElevenStrategy/endless_line/data_utils/dataloader.py:211\u001b[0m, in \u001b[0;36mdata_preprocessing\u001b[0;34m(self)\u001b[0m\n\u001b[1;32m    208\u001b[0m parade_night_show_ \u001b[38;5;241m=\u001b[39m pd\u001b[38;5;241m.\u001b[39mconcat([parade_night_show_night_show, parade_night_show_parade_1, parade_night_show_parade_2])\n\u001b[1;32m    210\u001b[0m \u001b[38;5;66;03m# drop all rows of non-existing parades and shows (nan values)\u001b[39;00m\n\u001b[0;32m--> 211\u001b[0m parade_night_show_ \u001b[38;5;241m=\u001b[39m parade_night_show_\u001b[38;5;241m.\u001b[39mdropna(subset\u001b[38;5;241m=\u001b[39m[\u001b[38;5;124m'\u001b[39m\u001b[38;5;124mshow_or_parade\u001b[39m\u001b[38;5;124m'\u001b[39m])\n\u001b[1;32m    213\u001b[0m \u001b[38;5;66;03m# create 15min granularity (to join with other tables) on separate dataframes\u001b[39;00m\n\u001b[1;32m    214\u001b[0m \u001b[38;5;66;03m# Careful: depending on how we join this with other table, it might mean that the parade is 30min or 45min long !!!!!\u001b[39;00m\n\u001b[1;32m    215\u001b[0m parade_night_show_15 \u001b[38;5;241m=\u001b[39m parade_night_show_\u001b[38;5;241m.\u001b[39mcopy()\n",
      "File \u001b[0;32m~/Hackathon-ElevenStrategy/endless_line/data_utils/dataloader.py:249\u001b[0m, in \u001b[0;36mpreprocess_weather\u001b[0;34m(self)\u001b[0m\n\u001b[1;32m    247\u001b[0m \u001b[38;5;28;01mdef\u001b[39;00m \u001b[38;5;21mclean_link_attraction_park\u001b[39m(\u001b[38;5;28mself\u001b[39m):\n\u001b[1;32m    248\u001b[0m \u001b[38;5;250m\t\u001b[39m\u001b[38;5;124;03m\"\"\"\u001b[39;00m\n\u001b[0;32m--> 249\u001b[0m \u001b[38;5;124;03m\tClean the attraction-park mapping data.\u001b[39;00m\n\u001b[1;32m    250\u001b[0m \u001b[38;5;124;03m\t\"\"\"\u001b[39;00m\n\u001b[1;32m    251\u001b[0m \t\u001b[38;5;28mself\u001b[39m\u001b[38;5;241m.\u001b[39mlink_attraction_park \u001b[38;5;241m=\u001b[39m \u001b[38;5;28mself\u001b[39m\u001b[38;5;241m.\u001b[39mlink_attraction_park[\u001b[38;5;28mself\u001b[39m\u001b[38;5;241m.\u001b[39mlink_attraction_park[\u001b[38;5;124m'\u001b[39m\u001b[38;5;124mPARK\u001b[39m\u001b[38;5;124m'\u001b[39m] \u001b[38;5;241m==\u001b[39m \u001b[38;5;124m'\u001b[39m\u001b[38;5;124mPortAventura World\u001b[39m\u001b[38;5;124m'\u001b[39m]\n",
      "\u001b[0;31mNameError\u001b[0m: name 'df' is not defined"
     ]
    }
   ],
   "source": [
    "data = DataLoader(load_all_files=True)\n",
    "data.clean_data()\n",
    "data.data_preprocessing()\n",
    "df_weather = data.weather"
   ]
  },
  {
   "cell_type": "code",
   "execution_count": null,
   "metadata": {},
   "outputs": [],
   "source": [
    "df = data.attendance\n",
    "df_weather = data.weather"
   ]
  }
 ],
 "metadata": {
  "kernelspec": {
   "display_name": "base",
   "language": "python",
   "name": "python3"
  },
  "language_info": {
   "codemirror_mode": {
    "name": "ipython",
    "version": 3
   },
   "file_extension": ".py",
   "mimetype": "text/x-python",
   "name": "python",
   "nbconvert_exporter": "python",
   "pygments_lexer": "ipython3",
   "version": "3.11.7"
  }
 },
 "nbformat": 4,
 "nbformat_minor": 2
}
